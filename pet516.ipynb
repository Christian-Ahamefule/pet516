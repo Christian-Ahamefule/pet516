{
 "cells": [
  {
   "cell_type": "markdown",
   "id": "fccb0ff1",
   "metadata": {},
   "source": [
    "## Problem Discipline\n",
    "\n",
    "The problem resolved by the group cuts across the of the major disciplines of petroleum engineering. This problems were selected in order of industry operations.\n",
    "1. Reservoir Engineering\n",
    "2. Drilling Engineering\n",
    "3. Production Engineering"
   ]
  },
  {
   "cell_type": "markdown",
   "id": "f8ef9822",
   "metadata": {},
   "source": [
    "## Importing Necessary Library"
   ]
  },
  {
   "cell_type": "code",
   "execution_count": 21,
   "id": "cd5cf866",
   "metadata": {},
   "outputs": [],
   "source": [
    "import numpy as np"
   ]
  },
  {
   "cell_type": "markdown",
   "id": "eadc0237",
   "metadata": {},
   "source": [
    "### RESERVOIR ENGINEERING\n",
    "\n",
    "It is the duty of the reservoir engineer while working with the geologists to determine the Aeal extent of the reservoir, thickness of the payzone, and ultimately the Original Oil In Place (OOIP) - which enables decisions to be made regarding Drilling. Thus a function calculate this was defined:"
   ]
  },
  {
   "cell_type": "code",
   "execution_count": 29,
   "id": "2bb94dca",
   "metadata": {},
   "outputs": [
    {
     "name": "stdout",
     "output_type": "stream",
     "text": [
      "Enter Area (Acres) = 1\n",
      "Enter reservoir Thickness (ft) = 2\n",
      "Enter Porosity (decimal) = 3\n",
      "Enter Connate water saturation = 4\n",
      "Enter Oil FVF (bbl/STB) = 5\n",
      "-3.6 STB\n"
     ]
    }
   ],
   "source": [
    "# Initial Oil in Place\n",
    "#step 1:Function definition and accepting neccessary input parameters\n",
    "def OOIP ():\n",
    "    A = input (\"Enter Area (Acres) = \",)\n",
    "    h = input (\"Enter reservoir Thickness (ft) = \",)\n",
    "    p = input(\"Enter Porosity (decimal) = \",)\n",
    "    Swc = input (\"Enter Connate water saturation = \",)\n",
    "    Boi = input (\"Enter Oil FVF (bbl/STB) = \",)\n",
    "\n",
    "#step 2: check if inputs are floatable variables\n",
    "    try:\n",
    "        Area = float(A)\n",
    "        Height = float(h)\n",
    "        porosity = float(p)\n",
    "        Swc = float (Swc)\n",
    "        Boi = float(Boi) \n",
    "    except:\n",
    "        print (\"input type error, Please enter an interger\")\n",
    "\n",
    "#step 3: SOlve for the OOIP using the proper correlation\n",
    "    numerator = Area*Height*porosity*(1-Swc)\n",
    "    OOIP = float(numerator/Boi)\n",
    "    return OOIP\n",
    "print(OOIP(),\"STB\")"
   ]
  },
  {
   "cell_type": "markdown",
   "id": "759d5511",
   "metadata": {},
   "source": [
    "## DRILLING ENGINEERING\n",
    "\n",
    "During drilling it is important to counteract hydrostatic pressure of the well, thus the it is the duty of the drilling engineers to calculate circulating density of the mud necessary to effectively balance the hydrostatic pressure or have slight overbalance drilling. The function below solves this problem"
   ]
  },
  {
   "cell_type": "code",
   "execution_count": null,
   "id": "e9bba3b9",
   "metadata": {},
   "outputs": [],
   "source": [
    "#Equivalent Circulating Density\n",
    "#step 1:Function definition and accepting neccessary input parameters\n",
    "def ECD():\n",
    "    mw = input (\"Enter Mud Weight (ppg) = \",)\n",
    "    pi = input (\"Enter initial pressure (psi) = \",)\n",
    "    po = input (\"Enter current pressure (psi) = \",)\n",
    "    tvd = input (\"Enter True Vertical Depth (ft) = \",)\n",
    "    \n",
    "    #check if input variables are valid\n",
    "    try:\n",
    "        mw = float(mw)\n",
    "        pi = float(pi)\n",
    "        po = float(po)\n",
    "        tvd = float(tvd)\n",
    "    except:\n",
    "        print (\"InputTypeError\")\n",
    "    \n",
    "    #solve for ECD\n",
    "    ECD = mw + ((pi-po)/0.052*tvd)\n",
    "    return ECD\n",
    "print(ECD(),\"ppg\")\n"
   ]
  },
  {
   "cell_type": "markdown",
   "id": "28067439",
   "metadata": {},
   "source": [
    "## PRODUCTION ENGINEERING"
   ]
  },
  {
   "cell_type": "markdown",
   "id": "9d772c3e",
   "metadata": {},
   "source": [
    "### Maximum oil production rate without water or gs conning\n",
    "During Production, it is the job of Production to determine production rates under different conditions, and rate of water influx during production. Thus the functions defined below compute the rate of flow and water influx after being supplied necessary parameters"
   ]
  },
  {
   "cell_type": "code",
   "execution_count": 26,
   "id": "76af0000",
   "metadata": {},
   "outputs": [
    {
     "name": "stdout",
     "output_type": "stream",
     "text": [
      "Enter oil permeability (mD) = 1\n",
      "Enter oil viscosity (cP) = 2\n",
      "Enter Oil FVF (bbl/STB) = 3\n",
      "Enter formation thickness (ft) = 4\n",
      "Enter perforation interval (ft) = 5\n",
      "Enter reservoir radius (ft) = 6\n",
      "Enter wellbore radius (ft) = 7\n",
      "Enter water density (lb/ft3) = 8\n",
      "Enter oil density (lb/ft3) = 9\n",
      "Enter gas density (lb/ft3) = 1\n",
      "3.4196596325982744e-05\n"
     ]
    }
   ],
   "source": [
    "#Maximum flowrate without water and gas conning\n",
    "#step 1:Function definition and accepting neccessary input parameters\n",
    "def max_Qoc ():\n",
    "    Ko =input (\"Enter oil permeability (mD) = \",)\n",
    "    Uo = input (\"Enter oil viscosity (cP) = \",)\n",
    "    Bo = input (\"Enter Oil FVF (bbl/STB) = \",)\n",
    "    h = input (\"Enter formation thickness (ft) = \",)\n",
    "    hp = input (\"Enter perforation interval (ft) = \",)\n",
    "    re = input (\"Enter reservoir radius (ft) = \",)\n",
    "    rw = input (\"Enter wellbore radius (ft) = \",)\n",
    "    ew = input (\"Enter water density (lb/ft3) = \",)\n",
    "    eo = input (\"Enter oil density (lb/ft3) = \",)\n",
    "    eg = input (\"Enter gas density (lb/ft3) = \",)\n",
    "    e = []\n",
    "    \n",
    "    #check if input variables are valid\n",
    "    try:\n",
    "        parameters = [Ko,Uo,Bo,h,hp,re,rw,ew,eo,eg]\n",
    "        for i in parameters:\n",
    "            i = float(i)\n",
    "            e.append(i)\n",
    "    except:\n",
    "        print (\"InputTypeError: Please enter a number\")\n",
    "    \n",
    "    #solve for max_Qoc\n",
    "    a = e[1] / (e[2] * e[3])\n",
    "    \n",
    "    b = ((e[3]**2 - e[4]**2) / np.log(e[5] / e[6]))\n",
    "    \n",
    "    c = (e[7]-e[8]) * (((e[7]-e[8]) / (e[7]-e[9]))**2)\n",
    "    \n",
    "    d = (e[8]-e[9]) * ((1 - ((e[8] -e[9]) / (e[7]-e[9])))**2)\n",
    "    \n",
    "    max_Qoc = (0.246*(10**-4))*a*b*(c+d)\n",
    "    return max_Qoc\n",
    "print(max_Qoc(),\"bbl/day\")"
   ]
  },
  {
   "cell_type": "markdown",
   "id": "f5c522a6",
   "metadata": {},
   "source": [
    "### Water Influx Rate\n",
    "#step 1:Function definition and accepting neccessary input parameters"
   ]
  },
  {
   "cell_type": "code",
   "execution_count": 28,
   "id": "6b536b32",
   "metadata": {},
   "outputs": [
    {
     "name": "stdout",
     "output_type": "stream",
     "text": [
      "Enter cummulative oil production (STB) = 1\n",
      "Enter cummulative water production (STB) = 2\n",
      "Enter Oil FVF (bbl/STB) = 3\n",
      "Enter gas FVF (bbl/Scf) = 4\n",
      "Enter water FVF (bbl/STB) = 5\n",
      "Enter Gas Oil Ratio (Scf/STB) = 6\n",
      "Enter Gas Solubility (Scf/STB) = 7\n",
      "9.0 bbl/day\n"
     ]
    }
   ],
   "source": [
    "def WI ():\n",
    "    Np =input (\"Enter cummulative oil production (STB) = \",)\n",
    "    Wp = input (\"Enter cummulative water production (STB) = \",)\n",
    "    Bo = input (\"Enter Oil FVF (bbl/STB) = \",)\n",
    "    Bg = input (\"Enter gas FVF (bbl/Scf) = \",)\n",
    "    Bw = input (\"Enter water FVF (bbl/STB) = \",)\n",
    "    gor = input (\"Enter Gas Oil Ratio (Scf/STB) = \",)\n",
    "    Rs = input (\"Enter Gas Solubility (Scf/STB) = \",)\n",
    "    c = []\n",
    "    try:\n",
    "        parameters = [Np,Wp,Bo,Bg,Bw,gor,Rs]\n",
    "        for i in parameters:\n",
    "            i=float(i)\n",
    "            c.append(i)\n",
    "    except:\n",
    "        print(\"InputTypeError\")\n",
    "    \n",
    "    WI = (c[0]*c[2]) + ((c[5]-c[6])*c[0]*c[3]) + (c[1]*c[4])\n",
    "    return WI\n",
    "print (WI(),\"bbl/day\")"
   ]
  }
 ],
 "metadata": {
  "kernelspec": {
   "display_name": "Python 3 (ipykernel)",
   "language": "python",
   "name": "python3"
  },
  "language_info": {
   "codemirror_mode": {
    "name": "ipython",
    "version": 3
   },
   "file_extension": ".py",
   "mimetype": "text/x-python",
   "name": "python",
   "nbconvert_exporter": "python",
   "pygments_lexer": "ipython3",
   "version": "3.9.13"
  }
 },
 "nbformat": 4,
 "nbformat_minor": 5
}
